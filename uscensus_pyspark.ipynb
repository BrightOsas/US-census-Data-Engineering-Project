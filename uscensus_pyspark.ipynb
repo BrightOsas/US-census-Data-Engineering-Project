{
 "cells": [
  {
   "cell_type": "code",
   "execution_count": 7,
   "id": "26730729-024e-4c65-82d9-c8d917002f9f",
   "metadata": {},
   "outputs": [],
   "source": [
    "import pyspark\n",
    "from pyspark.sql import SparkSession\n",
    "from pyspark.sql.functions import col, expr"
   ]
  },
  {
   "cell_type": "code",
   "execution_count": 2,
   "id": "03995bb0-252a-4a78-81f2-28a7def3a85d",
   "metadata": {},
   "outputs": [],
   "source": [
    "spark = SparkSession.builder \\\n",
    "    .config(\"spark.executor.memory\", \"4g\") \\\n",
    "    .appName(\"PySpark\") \\\n",
    "    .master(\"local[*]\") \\\n",
    "    .getOrCreate()"
   ]
  },
  {
   "cell_type": "code",
   "execution_count": 3,
   "id": "5e16abd7-9bd8-4ab9-9674-ad82f966be08",
   "metadata": {},
   "outputs": [],
   "source": [
    "df = spark.read.csv('finaldata.csv', header=True, inferSchema=True)"
   ]
  },
  {
   "cell_type": "code",
   "execution_count": 8,
   "id": "7d4245be-f91b-471c-989e-6dcf32338de7",
   "metadata": {},
   "outputs": [],
   "source": [
    "df2 = df.withColumn(\n",
    "    'DATE',\n",
    "    expr(\"concat_ws('/', HRYEAR4, lpad(HRMONTH, 2, '0'))\")\n",
    ")"
   ]
  },
  {
   "cell_type": "code",
   "execution_count": 10,
   "id": "5335d4b9-a31f-4166-ab07-2a920331054d",
   "metadata": {},
   "outputs": [],
   "source": [
    "df2 = df2.select(\n",
    "    col('HRHHID'),\n",
    "    col('DATE'),\n",
    "    col('HUFINAL'),\n",
    "    col('HEHOUSUT'),\n",
    "    col('HRHTYPE'),\n",
    "    col('HETELHHD'),\n",
    "    col('HETELAVL'),\n",
    "    col('HEPHONEO'),\n",
    "    col('HUINTTYP'),\n",
    "    col('HEFAMINC'),\n",
    "    col('GEDIV'),\n",
    "    col('PTDTRACE')\n",
    ")"
   ]
  },
  {
   "cell_type": "code",
   "execution_count": 11,
   "id": "013b877c-4564-4066-be20-d3b1a6887270",
   "metadata": {},
   "outputs": [
    {
     "name": "stdout",
     "output_type": "stream",
     "text": [
      "+------------+-------+-------+--------+-------+--------+--------+--------+--------+--------+-----+--------+\n",
      "|      HRHHID|   DATE|HUFINAL|HEHOUSUT|HRHTYPE|HETELHHD|HETELAVL|HEPHONEO|HUINTTYP|HEFAMINC|GEDIV|PTDTRACE|\n",
      "+------------+-------+-------+--------+-------+--------+--------+--------+--------+--------+-----+--------+\n",
      "|  4795110719|2017/12|    201|       1|      1|       1|      -1|       1|       2|       9|    6|       1|\n",
      "|  4795110719|2017/12|    201|       1|      1|       1|      -1|       1|       2|       9|    6|       1|\n",
      "| 71691004941|2017/12|    201|       1|      1|       1|      -1|       1|       1|      11|    6|       1|\n",
      "| 71691004941|2017/12|    201|       1|      1|       1|      -1|       1|       1|      11|    6|       1|\n",
      "| 71691004941|2017/12|    201|       1|      1|       1|      -1|       1|       1|      11|    6|       1|\n",
      "|110177987986|2017/12|    201|       1|      1|       1|      -1|       1|       1|      14|    6|       2|\n",
      "|110177987986|2017/12|    201|       1|      1|       1|      -1|       1|       1|      14|    6|       2|\n",
      "|110206593381|2017/12|    213|       1|      0|      -1|      -1|       0|       1|      -1|    6|      -1|\n",
      "|110284815680|2017/12|    201|       1|      7|       1|      -1|       1|       1|       9|    6|       1|\n",
      "|110327856469|2017/12|    201|       1|      7|       1|      -1|       1|       1|       5|    6|       2|\n",
      "+------------+-------+-------+--------+-------+--------+--------+--------+--------+--------+-----+--------+\n",
      "only showing top 10 rows\n",
      "\n"
     ]
    }
   ],
   "source": [
    "df2.show(10)"
   ]
  },
  {
   "cell_type": "code",
   "execution_count": 17,
   "id": "486b98c9-9db7-40dc-98fc-2e61bed09952",
   "metadata": {},
   "outputs": [
    {
     "name": "stdout",
     "output_type": "stream",
     "text": [
      "+--------+-------------------+\n",
      "|HEFAMINC|Count of Responders|\n",
      "+--------+-------------------+\n",
      "|      -1|              20391|\n",
      "|      12|               9971|\n",
      "|       1|               3136|\n",
      "|      13|              13442|\n",
      "|       6|               4518|\n",
      "|      16|              15704|\n",
      "|       3|               2277|\n",
      "|       5|               2614|\n",
      "|      15|              17794|\n",
      "|       9|               6743|\n",
      "|       4|               3161|\n",
      "|       8|               5803|\n",
      "|       7|               6312|\n",
      "|      10|               6620|\n",
      "|      11|               9788|\n",
      "|      14|              16557|\n",
      "|       2|               1625|\n",
      "+--------+-------------------+\n",
      "\n"
     ]
    }
   ],
   "source": [
    "df2.groupBy(\"HEFAMINC\").count().withColumnRenamed(\"count\", \"Count of Responders\").show()"
   ]
  },
  {
   "cell_type": "code",
   "execution_count": 18,
   "id": "4a80fedd-268a-4b48-92b5-d3dfe7251205",
   "metadata": {},
   "outputs": [
    {
     "name": "stdout",
     "output_type": "stream",
     "text": [
      "+-----+--------+------------+\n",
      "|GEDIV|PTDTRACE|HRHHID_count|\n",
      "+-----+--------+------------+\n",
      "|    5|       1|       16999|\n",
      "|    8|       1|       14343|\n",
      "|    9|       1|       13214|\n",
      "|    3|       1|       11325|\n",
      "|    7|       1|       11248|\n",
      "|    4|       1|        9884|\n",
      "|    2|       1|        8487|\n",
      "|    1|       1|        8410|\n",
      "|    6|       1|        6580|\n",
      "|    5|       2|        4899|\n",
      "+-----+--------+------------+\n",
      "only showing top 10 rows\n",
      "\n"
     ]
    }
   ],
   "source": [
    "# Group by 'GEDIV' and 'PTDTRACE', aggregate count, and sort in descending order\n",
    "question2 =df2.groupBy(\"GEDIV\", \"PTDTRACE\").agg({\"HRHHID\": \"count\"}).withColumnRenamed(\"count(HRHHID)\", \"HRHHID_count\").orderBy(\"HRHHID_count\", ascending=False).show(10)"
   ]
  },
  {
   "cell_type": "code",
   "execution_count": 19,
   "id": "48351169-3d83-4b7c-8710-ea4487cde461",
   "metadata": {},
   "outputs": [
    {
     "data": {
      "text/plain": [
       "633"
      ]
     },
     "execution_count": 19,
     "metadata": {},
     "output_type": "execute_result"
    }
   ],
   "source": [
    "df2.filter((col('HETELHHD') == 2) & (col('HETELAVL') == 1) & (col('HEPHONEO') == 1)).select(\"HRHHID\").count()"
   ]
  },
  {
   "cell_type": "code",
   "execution_count": 20,
   "id": "b9f44e78-bbd3-4f7c-9ef2-c3f70a3e22c2",
   "metadata": {},
   "outputs": [
    {
     "data": {
      "text/plain": [
       "0"
      ]
     },
     "execution_count": 20,
     "metadata": {},
     "output_type": "execute_result"
    }
   ],
   "source": [
    "df2.filter((col('HETELHHD') == 1) & (col('HEPHONEO') == 2)).select(\"HRHHID\").count()"
   ]
  },
  {
   "cell_type": "code",
   "execution_count": 16,
   "id": "703da809-7a01-40f2-bae2-6384bacf4549",
   "metadata": {},
   "outputs": [
    {
     "data": {
      "text/html": [
       "\n",
       "            <div>\n",
       "                <p><b>SparkSession - in-memory</b></p>\n",
       "                \n",
       "        <div>\n",
       "            <p><b>SparkContext</b></p>\n",
       "\n",
       "            <p><a href=\"http://94911c0926e4:4040\">Spark UI</a></p>\n",
       "\n",
       "            <dl>\n",
       "              <dt>Version</dt>\n",
       "                <dd><code>v3.5.0</code></dd>\n",
       "              <dt>Master</dt>\n",
       "                <dd><code>local[*]</code></dd>\n",
       "              <dt>AppName</dt>\n",
       "                <dd><code>Assessment</code></dd>\n",
       "            </dl>\n",
       "        </div>\n",
       "        \n",
       "            </div>\n",
       "        "
      ],
      "text/plain": [
       "<pyspark.sql.session.SparkSession at 0x7f987d25c4d0>"
      ]
     },
     "execution_count": 16,
     "metadata": {},
     "output_type": "execute_result"
    }
   ],
   "source": [
    "spark"
   ]
  },
  {
   "cell_type": "code",
   "execution_count": 74,
   "id": "e6f5b265-4e85-40ab-be90-856ef3ede965",
   "metadata": {},
   "outputs": [],
   "source": [
    "spark.stop()"
   ]
  }
 ],
 "metadata": {
  "kernelspec": {
   "display_name": "Python 3 (ipykernel)",
   "language": "python",
   "name": "python3"
  },
  "language_info": {
   "codemirror_mode": {
    "name": "ipython",
    "version": 3
   },
   "file_extension": ".py",
   "mimetype": "text/x-python",
   "name": "python",
   "nbconvert_exporter": "python",
   "pygments_lexer": "ipython3",
   "version": "3.9.13"
  }
 },
 "nbformat": 4,
 "nbformat_minor": 5
}
